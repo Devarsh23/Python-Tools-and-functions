{
 "cells": [
  {
   "cell_type": "markdown",
   "metadata": {},
   "source": [
    "# Notable python function which makes the python programming language over the edge for problem solving\n",
    "## Created by Devarsh H Patel\n",
    "\n",
    " Python the programming language termed as the language to be the most effective language in the upcoming era due to its massive open source support. Python comes with plenty of useful functions and tools which makes the task of any developer very easy so in this article I am going to discuss such function.\n",
    "\n"
   ]
  },
  {
   "cell_type": "markdown",
   "metadata": {},
   "source": [
    "# 1.Counter :-"
   ]
  },
  {
   "cell_type": "markdown",
   "metadata": {},
   "source": [
    " The counter is a specific function which is needed to import from the Collections module. It returns with the dictionary which sights the occurrence of the particular element in iterable. Most_common method of counter returns the most common occurrence elements."
   ]
  },
  {
   "cell_type": "code",
   "execution_count": 9,
   "metadata": {},
   "outputs": [],
   "source": [
    "#importing counter\n",
    "from collections import Counter"
   ]
  },
  {
   "cell_type": "code",
   "execution_count": 10,
   "metadata": {},
   "outputs": [
    {
     "name": "stdout",
     "output_type": "stream",
     "text": [
      "Counter({1: 3, 3: 2, 11: 2, 2: 1, 435: 1, 5: 1, 67: 1, 666: 1})\n"
     ]
    }
   ],
   "source": [
    "l=[1,2,3,3,435,5,67,666,11,11,1,1]\n",
    "c=Counter(l)\n",
    "print(c)"
   ]
  },
  {
   "cell_type": "code",
   "execution_count": 11,
   "metadata": {},
   "outputs": [
    {
     "data": {
      "text/plain": [
       "[(1, 3), (3, 2)]"
      ]
     },
     "execution_count": 11,
     "metadata": {},
     "output_type": "execute_result"
    }
   ],
   "source": [
    "c.most_common(2)#this provides most common two elements that is 1 is 3 times and 3 is two times"
   ]
  },
  {
   "cell_type": "markdown",
   "metadata": {},
   "source": [
    "# 2.itertools :-\n",
    "The most discuss tools in the python programming language is itertools it comes with the tremendous scope with can go through the combination and permutation of any iterable. Itertools generally returns the itrators which we need to handle specifically.\n"
   ]
  },
  {
   "cell_type": "code",
   "execution_count": 12,
   "metadata": {},
   "outputs": [],
   "source": [
    "import itertools#importing itertools"
   ]
  },
  {
   "cell_type": "code",
   "execution_count": 19,
   "metadata": {},
   "outputs": [
    {
     "name": "stdout",
     "output_type": "stream",
     "text": [
      "Print all 2 set combinations\n",
      "[(1, 2), (1, 3), (2, 3)]\n",
      "All two set combination with replacement\n",
      "[(1, 1), (1, 2), (1, 3), (2, 2), (2, 3), (3, 3)]\n",
      "All permutations\n",
      "[(1, 2, 3), (1, 3, 2), (2, 1, 3), (2, 3, 1), (3, 1, 2), (3, 2, 1)]\n"
     ]
    }
   ],
   "source": [
    "l=[1,2,3]\n",
    "print(\"Print all 2 set combinations\")\n",
    "print(list(itertools.combinations(l,2)))#we can also print 3 set combinations by giving 3 into argument\n",
    "print(\"All two set combination with replacement\")\n",
    "print(list(itertools.combinations_with_replacement(l,2)))\n",
    "print(\"All permutations\")\n",
    "print(list(itertools.permutations(l)))"
   ]
  },
  {
   "cell_type": "markdown",
   "metadata": {},
   "source": [
    "# 3.enumerate:-\n",
    "Enumerate function can help in the for loop where there is a need for index with the iterable element \n"
   ]
  },
  {
   "cell_type": "code",
   "execution_count": 20,
   "metadata": {},
   "outputs": [
    {
     "name": "stdout",
     "output_type": "stream",
     "text": [
      "0------->1\n",
      "1------->42\n",
      "2------->990\n",
      "3------->5\n",
      "4------->7\n",
      "5------->8\n",
      "6------->64\n"
     ]
    }
   ],
   "source": [
    "l=[1,42,990,5,7,8,64]\n",
    "for i,j in enumerate(l):\n",
    "    print(str(i)+\"------->\"+str(j))"
   ]
  },
  {
   "cell_type": "markdown",
   "metadata": {},
   "source": [
    "# 4.zip :-\n",
    "When there is a need to combine each respective elements of two or more iterable the zip fuction is used it takes two or more iterable as argument\n"
   ]
  },
  {
   "cell_type": "code",
   "execution_count": 22,
   "metadata": {},
   "outputs": [
    {
     "name": "stdout",
     "output_type": "stream",
     "text": [
      "<zip object at 0x0000020198B6F908>\n",
      "[(1, 4), (2, 5), (3, 6)]\n"
     ]
    }
   ],
   "source": [
    "l=[1,2,3]\n",
    "k=[4,5,6]\n",
    "a=zip(l,k)\n",
    "print(a)#returns iteratoe object\n",
    "print(list(a))#clubbed both list "
   ]
  },
  {
   "cell_type": "markdown",
   "metadata": {},
   "source": [
    "# 5.map:-\n",
    "When you need to apply any particular function to each and every element of the iterable then map function is used\n"
   ]
  },
  {
   "cell_type": "code",
   "execution_count": 23,
   "metadata": {},
   "outputs": [
    {
     "name": "stdout",
     "output_type": "stream",
     "text": [
      "<map object at 0x0000020198C93BC8>\n",
      "[1, 4, 9]\n"
     ]
    }
   ],
   "source": [
    "l=[1,2,3]\n",
    "a=map(lambda x:x**2,l)\n",
    "print(a)#returns iteratoe object\n",
    "print(list(a))#updated list\n"
   ]
  },
  {
   "cell_type": "markdown",
   "metadata": {},
   "source": [
    "# 6.filter:-\n",
    "This works similar to the map function buts it includes conditional facility\n"
   ]
  },
  {
   "cell_type": "code",
   "execution_count": 27,
   "metadata": {},
   "outputs": [
    {
     "name": "stdout",
     "output_type": "stream",
     "text": [
      "<filter object at 0x0000020199150448>\n",
      "[2, 4]\n"
     ]
    }
   ],
   "source": [
    "def is_even(i):\n",
    "    return i%2==0\n",
    "    \n",
    "l=[1,2,3,4]\n",
    "filtered=filter(is_even,l)\n",
    "print(filtered)#filtered iterator object\n",
    "print(list(filtered))#filtered list"
   ]
  },
  {
   "cell_type": "markdown",
   "metadata": {},
   "source": [
    "# 7.  --dict--\n",
    "This can be considered as a boon to a object oriented developer in python it gives the information of all the instance attribute in the dictionary form\n"
   ]
  },
  {
   "cell_type": "code",
   "execution_count": 29,
   "metadata": {},
   "outputs": [
    {
     "name": "stdout",
     "output_type": "stream",
     "text": [
      "{'name': 'devarsh', 'age': 20, 'pay': 100000}\n"
     ]
    }
   ],
   "source": [
    "class emplyoee:\n",
    "    def __init__(self,name,age,pay):\n",
    "        self.name=name\n",
    "        self.age=age\n",
    "        self.pay=pay\n",
    "emp=emplyoee(\"devarsh\",20,100000)\n",
    "print(emp.__dict__)#printing all attribute"
   ]
  },
  {
   "cell_type": "markdown",
   "metadata": {},
   "source": [
    "# 8.namedtuples:-\n",
    "If you need to access the tuples in the dictionary form where you can provide a key to search in tuple the named tuples is a best way to do it.\n"
   ]
  },
  {
   "cell_type": "code",
   "execution_count": 30,
   "metadata": {},
   "outputs": [],
   "source": [
    "from collections import namedtuple"
   ]
  },
  {
   "cell_type": "code",
   "execution_count": 33,
   "metadata": {},
   "outputs": [
    {
     "name": "stdout",
     "output_type": "stream",
     "text": [
      "20\n",
      "100000\n"
     ]
    }
   ],
   "source": [
    "dev=namedtuple(\"Dev\",[\"age\",\"pay\"])\n",
    "d=dev(20,100000)\n",
    "print(d.age)#we can access tuple with the key hurray\n",
    "print(d[1])"
   ]
  },
  {
   "cell_type": "markdown",
   "metadata": {},
   "source": [
    "# 9.sorted:-\n",
    "Sorted is a sorted function mainly used for non inplace sorting by keeping reverse =TRUE we can  sort in the reverse order .By the help of the key parameter we can sort through the inner elements like we can sort according to the tuples 2nd index in a data structure congaing various tuples inside list\n"
   ]
  },
  {
   "cell_type": "code",
   "execution_count": 39,
   "metadata": {},
   "outputs": [
    {
     "name": "stdout",
     "output_type": "stream",
     "text": [
      "Sorted\n",
      "[1, 1, 2, 2, 3, 4, 4, 5, 7, 8, 50, 56, 96]\n",
      "original list\n",
      "[1, 2, 5, 4, 7, 8, 96, 3, 2, 1, 4, 50, 56]\n",
      "Sorting acccording to second element of the tuple in reverse\n",
      "[(5, 8, 3), (4, 7, 5), (8, 4, 1), (2, 3, 4)]\n"
     ]
    }
   ],
   "source": [
    "l=[1,2,5,4,7,8,96,3,2,1,4,50,56]\n",
    "print(\"Sorted\")\n",
    "print(sorted(l))#returns another sorted list\n",
    "print(\"original list\")\n",
    "print(l)#first list not sorted as it is\n",
    "l=[(2,3,4),(4,7,5),(5,8,3),(8,4,1)]\n",
    "#if we want above list to be sorted with respect to second element of tuple then\n",
    "print(\"Sorting acccording to second element of the tuple in reverse\")\n",
    "print(sorted(l,reverse=True,key=lambda x:x[1]))#prints sorted list according to second element of tuple in descending order"
   ]
  },
  {
   "cell_type": "markdown",
   "metadata": {},
   "source": [
    "# 10 min max with key\n",
    "Min and max function in the list are simply used to fetch the minimum and maximum from the iterable but with the help of the key function we can extract min and max according to the situation specific\n"
   ]
  },
  {
   "cell_type": "code",
   "execution_count": 43,
   "metadata": {},
   "outputs": [
    {
     "name": "stdout",
     "output_type": "stream",
     "text": [
      "print the maximum length string \n",
      "---->devarsh\n",
      "print the minimum length string \n",
      "---->h\n"
     ]
    }
   ],
   "source": [
    "l=[\"devarsh\",\"h\",\"patel\"]\n",
    "print(\"print the maximum length string \")\n",
    "print(\"---->\"+str(max(l,key=lambda x:len(x))))\n",
    "print(\"print the minimum length string \")\n",
    "print(\"---->\"+str(min(l,key=lambda x:len(x))))\n"
   ]
  },
  {
   "cell_type": "markdown",
   "metadata": {},
   "source": [
    "# 11.defaultdict:-\n",
    "We need to import default dict from the collection module here it is similar data structure as the dictionary but if we request the key which is not present in the dictionary then it does not return key error but it returns none  \n"
   ]
  },
  {
   "cell_type": "code",
   "execution_count": 44,
   "metadata": {},
   "outputs": [],
   "source": [
    "from collections import defaultdict"
   ]
  },
  {
   "cell_type": "code",
   "execution_count": 49,
   "metadata": {},
   "outputs": [
    {
     "name": "stdout",
     "output_type": "stream",
     "text": [
      "Devarsh\n",
      "not present\n"
     ]
    }
   ],
   "source": [
    "def msg():\n",
    "    return \"not present\"\n",
    "d=defaultdict(msg)\n",
    "d[\"name\"]=\"Devarsh\"\n",
    "d[\"surname\"]=\"patel\"\n",
    "print(d[\"name\"])\n",
    "print(d[\"age\"])#age is not present so it will return the not present from the msg function"
   ]
  },
  {
   "cell_type": "markdown",
   "metadata": {},
   "source": [
    "# 12.Re library (Regular expression):-\n",
    "Regular expression is very important with respect to the text processing so python comes with re library for these purpose\n",
    "The basic idea behind the this is to create the pattern and then fire the query to search that pattern in string.  \n",
    "Visit python .org for more details on RE"
   ]
  },
  {
   "cell_type": "code",
   "execution_count": 50,
   "metadata": {},
   "outputs": [],
   "source": [
    "#importing re module\n",
    "import re"
   ]
  },
  {
   "cell_type": "code",
   "execution_count": 51,
   "metadata": {},
   "outputs": [
    {
     "name": "stdout",
     "output_type": "stream",
     "text": [
      "All words in the string\n",
      "<re.Match object; span=(0, 2), match='My'>\n",
      "<re.Match object; span=(3, 7), match='name'>\n",
      "<re.Match object; span=(8, 10), match='is'>\n",
      "<re.Match object; span=(11, 18), match='devarsh'>\n",
      "<re.Match object; span=(19, 20), match='h'>\n",
      "<re.Match object; span=(21, 26), match='patel'>\n",
      "<re.Match object; span=(27, 32), match='Hello'>\n",
      "<re.Match object; span=(33, 36), match='all'>\n",
      "<re.Match object; span=(37, 40), match='how'>\n",
      "<re.Match object; span=(41, 44), match='are'>\n",
      "<re.Match object; span=(46, 49), match='you'>\n",
      "<re.Match object; span=(50, 54), match='this'>\n",
      "<re.Match object; span=(55, 57), match='is'>\n",
      "<re.Match object; span=(58, 64), match='number'>\n",
      "<re.Match object; span=(65, 67), match='to'>\n",
      "<re.Match object; span=(68, 72), match='test'>\n",
      "<re.Match object; span=(73, 81), match='12456789'>\n",
      "<re.Match object; span=(82, 85), match='and'>\n",
      "<re.Match object; span=(86, 93), match='special'>\n",
      "<re.Match object; span=(94, 103), match='character'>\n",
      "<re.Match object; span=(104, 107), match='too'>\n"
     ]
    }
   ],
   "source": [
    "st=\"My name is devarsh h patel.Hello all how are  you this is number to test 12456789 and special character too !@ # $%\"\n",
    "print(\"All words in the string\")\n",
    "pattern=re.compile(r\"\\w+\")#/w+ is a regular expression to find words\n",
    "match=re.finditer(pattern,st)#find iter returns span that is index too so it is useful\n",
    "for i in match:\n",
    "    print(i)"
   ]
  },
  {
   "cell_type": "markdown",
   "metadata": {},
   "source": [
    "# 13.lambda function:-\n",
    "This function is also called as the anonyms function this function has no name it takes the parameter and returns the result with in one line of the code. Specifically, it is used to define the key for Sorted and like functions \n"
   ]
  },
  {
   "cell_type": "code",
   "execution_count": 56,
   "metadata": {},
   "outputs": [
    {
     "name": "stdout",
     "output_type": "stream",
     "text": [
      "Normal function\n",
      "False\n",
      "lambda function\n",
      "True\n"
     ]
    }
   ],
   "source": [
    "#function to calculate the number is even or not\n",
    "#normal function\n",
    "print(\"Normal function\")\n",
    "def is_even(i):\n",
    "    return i%2==0\n",
    "print(is_even(1))\n",
    "#with the help of lambda\n",
    "print(\"lambda function\")\n",
    "x=lambda s:s%2==0\n",
    "print(x(2))"
   ]
  },
  {
   "cell_type": "markdown",
   "metadata": {},
   "source": [
    "# 14.Decorator\n",
    "Decorators provides the developer the power to change or add the function some line of code without even changing the source code of the function @keyword is placed above the function which needs to be decorated.\n"
   ]
  },
  {
   "cell_type": "code",
   "execution_count": 76,
   "metadata": {},
   "outputs": [
    {
     "name": "stdout",
     "output_type": "stream",
     "text": [
      "time taken to execute function  0.021939992904663086\n",
      "The square of the number is 16\n"
     ]
    }
   ],
   "source": [
    "# time calculating decorator\n",
    "import time\n",
    "def t(fun):\n",
    "    def wrapper(q):\n",
    "        t1=time.time()\n",
    "        returned=fun(q)\n",
    "        for i in range(1,1000000): # to increase run time\n",
    "            pass    \n",
    "        t2=time.time()\n",
    "        time_taken=t2-t1\n",
    "        print(\"time taken to execute function  \"+str(time_taken))\n",
    "        return returned\n",
    "    return wrapper\n",
    "        \n",
    "@t\n",
    "def square(q):\n",
    "    return q**2\n",
    "print(\"The square of the number is \" + str(square(4)))\n"
   ]
  },
  {
   "cell_type": "markdown",
   "metadata": {},
   "source": [
    "# 15.Generator\n",
    "Generator are the iterators which helps to use instantiate data rather than using whole data. This task prevents the system from loading whole data instead it loads the only required portion. \n"
   ]
  },
  {
   "cell_type": "code",
   "execution_count": 80,
   "metadata": {},
   "outputs": [
    {
     "name": "stdout",
     "output_type": "stream",
     "text": [
      "<function g at 0x0000020198D6B5E8>\n",
      "1\n",
      "2\n",
      "3\n",
      "4\n",
      "5\n",
      "6\n",
      "7\n",
      "8\n",
      "9\n",
      "10\n"
     ]
    }
   ],
   "source": [
    "#generator function\n",
    "def g():\n",
    "    for i in range(1,11):\n",
    "        yield i\n",
    "print(g)#ierator of genartor created\n",
    "for i in g():\n",
    "    print(i)\n"
   ]
  },
  {
   "cell_type": "code",
   "execution_count": 84,
   "metadata": {},
   "outputs": [
    {
     "name": "stdout",
     "output_type": "stream",
     "text": [
      "<generator object <genexpr> at 0x0000020199174D48>\n",
      "1\n",
      "2\n",
      "3\n",
      "4\n",
      "5\n",
      "6\n",
      "7\n",
      "8\n",
      "9\n",
      "10\n"
     ]
    }
   ],
   "source": [
    "#generator compprehension\n",
    "g=(i for i in range(1,11))#generator created\n",
    "print(g)#ierator of genartor created\n",
    "for i in g:\n",
    "    print(i)\n",
    "\n"
   ]
  },
  {
   "cell_type": "markdown",
   "metadata": {},
   "source": [
    "# 16.*args:-\n",
    "When we need to pass any no of arguments to the function then we define function parameter as *args this takes any no of arguments and converts it in to the tuple \n"
   ]
  },
  {
   "cell_type": "code",
   "execution_count": 86,
   "metadata": {},
   "outputs": [
    {
     "name": "stdout",
     "output_type": "stream",
     "text": [
      "<class 'tuple'>\n",
      "[1, 4, 9]\n",
      "<class 'tuple'>\n",
      "[25, 49]\n",
      "<class 'tuple'>\n",
      "[81]\n"
     ]
    }
   ],
   "source": [
    "def square(*args):\n",
    "    print(type(args))\n",
    "    return [i**2 for i in args]\n",
    "#passind different number of argument\n",
    "print(square(1,2,3))\n",
    "print(square(5,7))\n",
    "print(square(9))"
   ]
  },
  {
   "cell_type": "markdown",
   "metadata": {},
   "source": [
    "# 17**kwargs\n",
    "When we need to pass dictionary type data structure arguments to the function then we define function parameter as **kwargs this takes dictionary type data structure as a arguments and converts it in to the pure dictionary \n"
   ]
  },
  {
   "cell_type": "code",
   "execution_count": 90,
   "metadata": {},
   "outputs": [
    {
     "name": "stdout",
     "output_type": "stream",
     "text": [
      "name--->devarsh\n",
      "surname--->patel\n",
      "None\n"
     ]
    }
   ],
   "source": [
    "def info(**kwargs):\n",
    "    type(kwargs)\n",
    "    for i,j in kwargs.items():\n",
    "        print(str(i)+\"--->\"+str(j))\n",
    "print(info(name=\"devarsh\",surname=\"patel\"))"
   ]
  },
  {
   "cell_type": "markdown",
   "metadata": {},
   "source": [
    "# 18.Use sets to remove the duplicate values from the list or any suitable iterable"
   ]
  },
  {
   "cell_type": "code",
   "execution_count": 91,
   "metadata": {},
   "outputs": [
    {
     "name": "stdout",
     "output_type": "stream",
     "text": [
      "[1, 2, 3, 4, 5, 7]\n"
     ]
    }
   ],
   "source": [
    "l=[1,1,1,1,1,2,2,2,3,3,3,5,4,7,5]\n",
    "l=set(l)#removed dupllicate\n",
    "print(list(l))"
   ]
  },
  {
   "cell_type": "markdown",
   "metadata": {},
   "source": [
    "# 19.all function\n",
    "All function returns true if all the value of the list is true\n"
   ]
  },
  {
   "cell_type": "code",
   "execution_count": 93,
   "metadata": {},
   "outputs": [
    {
     "name": "stdout",
     "output_type": "stream",
     "text": [
      "[False, True, False, True, False, True, False, True, False, True]\n",
      "False\n"
     ]
    }
   ],
   "source": [
    "l=[i%2==0 for i in range(1,11)] #appens true if even else false \n",
    "print(l)\n",
    "print(all(l))"
   ]
  },
  {
   "cell_type": "markdown",
   "metadata": {},
   "source": [
    "# 20.any function\n",
    "Any function returns true if any of  the value of the list is true\n"
   ]
  },
  {
   "cell_type": "code",
   "execution_count": 95,
   "metadata": {},
   "outputs": [
    {
     "name": "stdout",
     "output_type": "stream",
     "text": [
      "[False, True, False, True, False, True, False, True, False, True]\n",
      "True\n"
     ]
    }
   ],
   "source": [
    "l=[i%2==0 for i in range(1,11)]  #appens true if even else false \n",
    "print(l)\n",
    "print(any(l))"
   ]
  },
  {
   "cell_type": "markdown",
   "metadata": {},
   "source": [
    "# For more information open the python documentation and search above discussed functions and tools"
   ]
  },
  {
   "cell_type": "markdown",
   "metadata": {},
   "source": [
    "### I want to thank corey schafer,harshit vashisth,krish naik for providing usefull knowledge to get me able to make this article"
   ]
  }
 ],
 "metadata": {
  "kernelspec": {
   "display_name": "Python 3",
   "language": "python",
   "name": "python3"
  },
  "language_info": {
   "codemirror_mode": {
    "name": "ipython",
    "version": 3
   },
   "file_extension": ".py",
   "mimetype": "text/x-python",
   "name": "python",
   "nbconvert_exporter": "python",
   "pygments_lexer": "ipython3",
   "version": "3.7.6"
  }
 },
 "nbformat": 4,
 "nbformat_minor": 4
}
